{
 "cells": [
  {
   "cell_type": "markdown",
   "metadata": {},
   "source": [
    "# **Setup**\n",
    "\n",
    "* https://www.kdnuggets.com/python-in-finance-real-time-data-streaming-within-jupyter-notebook"
   ]
  },
  {
   "cell_type": "code",
   "execution_count": 6,
   "metadata": {},
   "outputs": [
    {
     "name": "stdout",
     "output_type": "stream",
     "text": [
      "Requirement already satisfied: pathway in c:\\users\\aksha\\appdata\\local\\programs\\python\\python311\\lib\\site-packages (0.post1)\n"
     ]
    }
   ],
   "source": [
    "%%capture --no-display\n",
    "# !pip install pathway"
   ]
  },
  {
   "cell_type": "code",
   "execution_count": 7,
   "metadata": {},
   "outputs": [],
   "source": [
    "import datetime\n",
    "import bokeh.models\n",
    "import bokeh.plotting\n",
    "import panel\n",
    "import pathway as pw"
   ]
  },
  {
   "cell_type": "markdown",
   "metadata": {},
   "source": [
    "# **Data Import**"
   ]
  },
  {
   "cell_type": "code",
   "execution_count": 8,
   "metadata": {},
   "outputs": [
    {
     "name": "stderr",
     "output_type": "stream",
     "text": [
      "'wget' is not recognized as an internal or external command,\n",
      "operable program or batch file.\n"
     ]
    }
   ],
   "source": [
    "# Command to download the sample APPLE INC stock prices extracted via Polygon API and stored in a CSV for ease of review of this notebook.\n",
    "\n",
    "# %%capture --no-display\n",
    "!wget -nc https://gist.githubusercontent.com/janchorowski/e351af72ecd8d206a34763a428826ab7/raw/ticker.csv"
   ]
  },
  {
   "cell_type": "markdown",
   "metadata": {},
   "source": [
    "## **Streaming Source**"
   ]
  },
  {
   "cell_type": "code",
   "execution_count": 9,
   "metadata": {},
   "outputs": [
    {
     "name": "stderr",
     "output_type": "stream",
     "text": [
      "This is not the real Pathway package.\n",
      "Visit https://pathway.com/developers/ to get Pathway.\n",
      "Already tried that? Visit https://pathway.com/troubleshooting/ to get help.\n",
      "Note: your platform is Windows-10-10.0.22635-SP0, your Python is CPython 3.11.8.\n"
     ]
    },
    {
     "ename": "AttributeError",
     "evalue": "module 'pathway' has no attribute 'schema_from_csv'\nThis is not the real Pathway package.\nVisit https://pathway.com/developers/ to get Pathway.\nAlready tried that? Visit https://pathway.com/troubleshooting/ to get help.\nNote: your platform is Windows-10-10.0.22635-SP0, your Python is CPython 3.11.8.",
     "output_type": "error",
     "traceback": [
      "\u001b[1;31m---------------------------------------------------------------------------\u001b[0m",
      "\u001b[1;31mAttributeError\u001b[0m                            Traceback (most recent call last)",
      "Cell \u001b[1;32mIn[9], line 4\u001b[0m\n\u001b[0;32m      1\u001b[0m \u001b[38;5;66;03m# Creating a streaming data source from a CSV file\u001b[39;00m\n\u001b[0;32m      3\u001b[0m fname \u001b[38;5;241m=\u001b[39m \u001b[38;5;124m\"\u001b[39m\u001b[38;5;124mticker.csv\u001b[39m\u001b[38;5;124m\"\u001b[39m\n\u001b[1;32m----> 4\u001b[0m schema \u001b[38;5;241m=\u001b[39m \u001b[43mpw\u001b[49m\u001b[38;5;241;43m.\u001b[39;49m\u001b[43mschema_from_csv\u001b[49m(fname)\n\u001b[0;32m      5\u001b[0m data \u001b[38;5;241m=\u001b[39m pw\u001b[38;5;241m.\u001b[39mdemo\u001b[38;5;241m.\u001b[39mreplay_csv(fname, schema\u001b[38;5;241m=\u001b[39mschema, input_rate\u001b[38;5;241m=\u001b[39m\u001b[38;5;241m1000\u001b[39m)\n\u001b[0;32m      7\u001b[0m \u001b[38;5;66;03m# Uncommenting the line below will override the data table defined above and switch the data source to static mode, which is helpful for initial testing\u001b[39;00m\n\u001b[0;32m      8\u001b[0m \u001b[38;5;66;03m# data = pw.io.csv.read(fname, schema=schema, mode=\"static\")\u001b[39;00m\n\u001b[0;32m      9\u001b[0m \n\u001b[0;32m     10\u001b[0m \u001b[38;5;66;03m# Parsing the timestamps in the data\u001b[39;00m\n",
      "File \u001b[1;32mc:\\Users\\aksha\\AppData\\Local\\Programs\\Python\\Python311\\Lib\\site-packages\\pathway\\__init__.py:61\u001b[0m, in \u001b[0;36m__getattr__\u001b[1;34m(name)\u001b[0m\n\u001b[0;32m     59\u001b[0m _warn(warning)\n\u001b[0;32m     60\u001b[0m error \u001b[38;5;241m=\u001b[39m error \u001b[38;5;241m+\u001b[39m \u001b[38;5;124m\"\u001b[39m\u001b[38;5;130;01m\\n\u001b[39;00m\u001b[38;5;124m\"\u001b[39m \u001b[38;5;241m+\u001b[39m warning\n\u001b[1;32m---> 61\u001b[0m \u001b[38;5;28;01mraise\u001b[39;00m \u001b[38;5;167;01mAttributeError\u001b[39;00m(error)\n",
      "\u001b[1;31mAttributeError\u001b[0m: module 'pathway' has no attribute 'schema_from_csv'\nThis is not the real Pathway package.\nVisit https://pathway.com/developers/ to get Pathway.\nAlready tried that? Visit https://pathway.com/troubleshooting/ to get help.\nNote: your platform is Windows-10-10.0.22635-SP0, your Python is CPython 3.11.8."
     ]
    }
   ],
   "source": [
    "# Creating a streaming data source from a CSV file\n",
    "\n",
    "fname = \"ticker.csv\"\n",
    "schema = pw.schema_from_csv(fname)\n",
    "data = pw.demo.replay_csv(fname, schema=schema, input_rate=1000)\n",
    "\n",
    "# Uncommenting the line below will override the data table defined above and switch the data source to static mode, which is helpful for initial testing\n",
    "# data = pw.io.csv.read(fname, schema=schema, mode=\"static\")\n",
    "\n",
    "# Parsing the timestamps in the data\n",
    "\n",
    "data = data.with_columns(t=data.t.dt.utc_from_timestamp(unit=\"ms\"))"
   ]
  },
  {
   "cell_type": "markdown",
   "metadata": {},
   "source": [
    "# **Data Processing**"
   ]
  },
  {
   "cell_type": "markdown",
   "metadata": {},
   "source": [
    "## **Bollinger Bands**"
   ]
  },
  {
   "cell_type": "code",
   "execution_count": null,
   "metadata": {},
   "outputs": [],
   "source": [
    "# Calculating the 20-minute rolling statistics for Bollinger Bands\n",
    "\n",
    "\n",
    "minute_20_stats = (\n",
    "    data.windowby(\n",
    "        pw.this.t,\n",
    "        window=pw.temporal.sliding(\n",
    "            hop=datetime.timedelta(minutes=1),\n",
    "            duration=datetime.timedelta(minutes=20),\n",
    "        ),\n",
    "        behavior=pw.temporal.exactly_once_behavior(),\n",
    "        instance=pw.this.ticker,\n",
    "    )\n",
    "    .reduce(\n",
    "        ticker=pw.this._pw_instance,\n",
    "        t=pw.this._pw_window_end,\n",
    "        volume=pw.reducers.sum(pw.this.volume),\n",
    "        transact_total=pw.reducers.sum(pw.this.volume * pw.this.vwap),\n",
    "        transact_total2=pw.reducers.sum(pw.this.volume * pw.this.vwap**2),\n",
    "    )\n",
    "    .with_columns(vwap=pw.this.transact_total / pw.this.volume)\n",
    "    .with_columns(\n",
    "        vwstd=(pw.this.transact_total2 / pw.this.volume - pw.this.vwap**2)\n",
    "        ** 0.5\n",
    "    )\n",
    "    .with_columns(\n",
    "        bollinger_upper=pw.this.vwap + 2 * pw.this.vwstd,\n",
    "        bollinger_lower=pw.this.vwap - 2 * pw.this.vwstd,\n",
    "    )\n",
    ")\n",
    "# Computing the 1-minute rolling statistics\n",
    "\n",
    "minute_1_stats = (\n",
    "    data.windowby(\n",
    "        pw.this.t,\n",
    "        window=pw.temporal.tumbling(datetime.timedelta(minutes=1)),\n",
    "        behavior=pw.temporal.exactly_once_behavior(),\n",
    "        instance=pw.this.ticker,\n",
    "    )\n",
    "    .reduce(\n",
    "        ticker=pw.this._pw_instance,\n",
    "        t=pw.this._pw_window_end,\n",
    "        volume=pw.reducers.sum(pw.this.volume),\n",
    "        transact_total=pw.reducers.sum(pw.this.volume * pw.this.vwap),\n",
    "    )\n",
    "    .with_columns(vwap=pw.this.transact_total / pw.this.volume)\n",
    ")\n",
    "# Joining the 1-minute and 20-minute statistics for comprehensive analysis\n",
    "\n",
    "joint_stats = (\n",
    "    minute_1_stats.join(\n",
    "        minute_20_stats,\n",
    "        pw.left.t == pw.right.t,\n",
    "        pw.left.ticker == pw.right.ticker,\n",
    "    )\n",
    "    .select(\n",
    "        *pw.left,\n",
    "        bollinger_lower=pw.right.bollinger_lower,\n",
    "        bollinger_upper=pw.right.bollinger_upper\n",
    "    )\n",
    "    .with_columns(\n",
    "        is_alert=(pw.this.volume > 10000)\n",
    "        & (\n",
    "            (pw.this.vwap > pw.this.bollinger_upper)\n",
    "            | (pw.this.vwap < pw.this.bollinger_lower)\n",
    "        )\n",
    "    )\n",
    "    .with_columns(\n",
    "        action=pw.if_else(\n",
    "            pw.this.is_alert,\n",
    "            pw.if_else(\n",
    "                pw.this.vwap > pw.this.bollinger_upper, \"sell\", \"buy\"\n",
    "            ),\n",
    "            \"hold\",\n",
    "        )\n",
    "    )\n",
    ")\n",
    "alerts = joint_stats.filter(pw.this.is_alert)"
   ]
  },
  {
   "cell_type": "markdown",
   "metadata": {},
   "source": [
    "# **Data Visualization**"
   ]
  },
  {
   "cell_type": "code",
   "execution_count": null,
   "metadata": {},
   "outputs": [],
   "source": [
    "# Function to create the statistics plot\n",
    "\n",
    "\n",
    "def stats_plotter(src):\n",
    "    actions = [\"buy\", \"sell\", \"hold\"]\n",
    "    color_map = bokeh.models.CategoricalColorMapper(\n",
    "        factors=actions, palette=(\"#00ff00\", \"#ff0000\", \"#00000000\")\n",
    "    )\n",
    "\n",
    "    fig = bokeh.plotting.figure(\n",
    "        height=400,\n",
    "        width=600,\n",
    "        title=\"20 minutes Bollinger bands with last 1 minute average\",\n",
    "        x_axis_type=\"datetime\",\n",
    "        y_range=(188.5, 191),\n",
    "    )\n",
    "    fig.line(\"t\", \"vwap\", source=src)\n",
    "    band = bokeh.models.Band(\n",
    "        base=\"t\",\n",
    "        lower=\"bollinger_lower\",\n",
    "        upper=\"bollinger_upper\",\n",
    "        source=src,\n",
    "        fill_alpha=0.3,\n",
    "        fill_color=\"gray\",\n",
    "        line_color=\"black\",\n",
    "    )\n",
    "    fig.scatter(\n",
    "        \"t\",\n",
    "        \"vwap\",\n",
    "        color={\"field\": \"action\", \"transform\": color_map},\n",
    "        size=10,\n",
    "        marker=\"circle\",\n",
    "        source=src,\n",
    "    )\n",
    "    fig.add_layout(band)\n",
    "    return fig\n",
    "\n",
    "\n",
    "# Combining the plot and table in a Panel Row\n",
    "\n",
    "viz = panel.Row(\n",
    "    joint_stats.plot(stats_plotter, sorting_col=\"t\"),\n",
    "    alerts.select(\n",
    "        pw.this.ticker, pw.this.t, pw.this.vwap, pw.this.action\n",
    "    ).show(include_id=False, sorters=[{\"field\": \"t\", \"dir\": \"desc\"}]),\n",
    ")\n",
    "viz"
   ]
  },
  {
   "cell_type": "markdown",
   "metadata": {},
   "source": [
    "# **Run Computation**"
   ]
  },
  {
   "cell_type": "code",
   "execution_count": null,
   "metadata": {},
   "outputs": [],
   "source": [
    "# Command to start the Pathway data processing engine\n",
    "%%capture --no-display\n",
    "pw.run()"
   ]
  }
 ],
 "metadata": {
  "kernelspec": {
   "display_name": "Python 3",
   "language": "python",
   "name": "python3"
  },
  "language_info": {
   "codemirror_mode": {
    "name": "ipython",
    "version": 3
   },
   "file_extension": ".py",
   "mimetype": "text/x-python",
   "name": "python",
   "nbconvert_exporter": "python",
   "pygments_lexer": "ipython3",
   "version": "3.11.8"
  }
 },
 "nbformat": 4,
 "nbformat_minor": 2
}
